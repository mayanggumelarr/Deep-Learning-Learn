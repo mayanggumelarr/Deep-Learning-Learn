{
 "cells": [
  {
   "metadata": {},
   "cell_type": "markdown",
   "source": [
    "# PRA PEMROSESSAN TEKS WITH PYTHON\n",
    "- Case Folding\n",
    "- Removal Special Characters\n",
    "- Stopword Removal (Filtering)\n",
    "- Tokenizing\n",
    "- Stemming\n",
    "- Lemmatization"
   ],
   "id": "7c9cfe62d03771a"
  },
  {
   "metadata": {},
   "cell_type": "markdown",
   "source": "## Case Folding",
   "id": "5958cf49762e9c6e"
  },
  {
   "cell_type": "code",
   "id": "initial_id",
   "metadata": {
    "collapsed": true,
    "ExecuteTime": {
     "end_time": "2025-09-18T05:37:02.072455Z",
     "start_time": "2025-09-18T05:37:02.067471Z"
    }
   },
   "source": [
    "teks = \"Perusahaan teknologi Kreatif Digital meluncurkan produk terbarunya, yaitu aplikasi bernama AI-ChatBot_2025 pada tanggal 15 Mei 2025. Aplikasi ini dirancang untuk mempermudah komunikasi bisnis, dengan fitur-fitur canggih yang mampu memproses hingga 10.000 pertanyaan per menit. Para pengguna sangat antusias menyambutnya, karena mereka yakin aplikasi ini dapat meningkatkan efisiensi kerja hingga 75%. Namun, ada beberapa pengguna yang mengeluhkan bug kecil, seperti kesalahan penulisan (typo) pada balasan otomatis yang kadang muncul. Meski begitu, pihak pengembang berjanji akan segera merilis pembaruan untuk mengatasi semua masalah tersebut.\"\n",
    "\n",
    "teks_folded = teks.lower()\n",
    "\n",
    "print(\"Teks asli: \", teks)\n",
    "print(\"Teks lower: \", teks_folded)"
   ],
   "outputs": [
    {
     "name": "stdout",
     "output_type": "stream",
     "text": [
      "Teks asli:  Perusahaan teknologi Kreatif Digital meluncurkan produk terbarunya, yaitu aplikasi bernama AI-ChatBot_2025 pada tanggal 15 Mei 2025. Aplikasi ini dirancang untuk mempermudah komunikasi bisnis, dengan fitur-fitur canggih yang mampu memproses hingga 10.000 pertanyaan per menit. Para pengguna sangat antusias menyambutnya, karena mereka yakin aplikasi ini dapat meningkatkan efisiensi kerja hingga 75%. Namun, ada beberapa pengguna yang mengeluhkan bug kecil, seperti kesalahan penulisan (typo) pada balasan otomatis yang kadang muncul. Meski begitu, pihak pengembang berjanji akan segera merilis pembaruan untuk mengatasi semua masalah tersebut.\n",
      "Teks lower:  perusahaan teknologi kreatif digital meluncurkan produk terbarunya, yaitu aplikasi bernama ai-chatbot_2025 pada tanggal 15 mei 2025. aplikasi ini dirancang untuk mempermudah komunikasi bisnis, dengan fitur-fitur canggih yang mampu memproses hingga 10.000 pertanyaan per menit. para pengguna sangat antusias menyambutnya, karena mereka yakin aplikasi ini dapat meningkatkan efisiensi kerja hingga 75%. namun, ada beberapa pengguna yang mengeluhkan bug kecil, seperti kesalahan penulisan (typo) pada balasan otomatis yang kadang muncul. meski begitu, pihak pengembang berjanji akan segera merilis pembaruan untuk mengatasi semua masalah tersebut.\n"
     ]
    }
   ],
   "execution_count": 2
  },
  {
   "metadata": {},
   "cell_type": "markdown",
   "source": "## Removal Special Character",
   "id": "d59a17685d28f76d"
  },
  {
   "metadata": {
    "ExecuteTime": {
     "end_time": "2025-09-18T05:37:05.056356Z",
     "start_time": "2025-09-18T05:37:05.052005Z"
    }
   },
   "cell_type": "code",
   "source": [
    "# MENGHAPUS ANGKA\n",
    "def remove_num(teks):\n",
    "    teks_clean_num = ''.join([char for char in teks if not char.isdigit()])\n",
    "    return  teks_clean_num\n",
    "\n",
    "teks_clean1 = remove_num(teks_folded)\n",
    "print(\"\\n Teks tanpa angka: \\n\", teks_clean1)"
   ],
   "id": "4c7fcdb3c0d72220",
   "outputs": [
    {
     "name": "stdout",
     "output_type": "stream",
     "text": [
      "\n",
      " Teks tanpa angka: \n",
      " perusahaan teknologi kreatif digital meluncurkan produk terbarunya, yaitu aplikasi bernama ai-chatbot_ pada tanggal  mei . aplikasi ini dirancang untuk mempermudah komunikasi bisnis, dengan fitur-fitur canggih yang mampu memproses hingga . pertanyaan per menit. para pengguna sangat antusias menyambutnya, karena mereka yakin aplikasi ini dapat meningkatkan efisiensi kerja hingga %. namun, ada beberapa pengguna yang mengeluhkan bug kecil, seperti kesalahan penulisan (typo) pada balasan otomatis yang kadang muncul. meski begitu, pihak pengembang berjanji akan segera merilis pembaruan untuk mengatasi semua masalah tersebut.\n"
     ]
    }
   ],
   "execution_count": 3
  },
  {
   "metadata": {
    "ExecuteTime": {
     "end_time": "2025-09-18T05:37:08.915420Z",
     "start_time": "2025-09-18T05:37:08.911027Z"
    }
   },
   "cell_type": "code",
   "source": [
    "# MENGHAPUS TANDA BACA\n",
    "import string\n",
    "\n",
    "def remove_punctuation(teks):\n",
    "    punctuation_set = set(string.punctuation) # membuat daftar tanda baca\n",
    "\n",
    "    text_puncnot = ''.join(char for char in teks if char not in punctuation_set)  # filter teks tanpa tanda baca\n",
    "\n",
    "    return  text_puncnot\n",
    "\n",
    "teks_clean2 = remove_punctuation(teks_clean1)\n",
    "print(\"Teks tanpa tanda baca: \\n\", teks_clean2)"
   ],
   "id": "4f3d5f069ca0c764",
   "outputs": [
    {
     "name": "stdout",
     "output_type": "stream",
     "text": [
      "Teks tanpa tanda baca: \n",
      " perusahaan teknologi kreatif digital meluncurkan produk terbarunya yaitu aplikasi bernama aichatbot pada tanggal  mei  aplikasi ini dirancang untuk mempermudah komunikasi bisnis dengan fiturfitur canggih yang mampu memproses hingga  pertanyaan per menit para pengguna sangat antusias menyambutnya karena mereka yakin aplikasi ini dapat meningkatkan efisiensi kerja hingga  namun ada beberapa pengguna yang mengeluhkan bug kecil seperti kesalahan penulisan typo pada balasan otomatis yang kadang muncul meski begitu pihak pengembang berjanji akan segera merilis pembaruan untuk mengatasi semua masalah tersebut\n"
     ]
    }
   ],
   "execution_count": 4
  },
  {
   "metadata": {
    "ExecuteTime": {
     "end_time": "2025-09-18T05:37:11.832850Z",
     "start_time": "2025-09-18T05:37:11.829420Z"
    }
   },
   "cell_type": "code",
   "source": [
    "# HAPUS WHITESPACE\n",
    "teks_clean3 = teks_clean2.strip()\n",
    "\n",
    "print(\"Teks Tanpa Whitespace: \\n\", teks_clean3)"
   ],
   "id": "65c7bc357cbe0a42",
   "outputs": [
    {
     "name": "stdout",
     "output_type": "stream",
     "text": [
      "Teks Tanpa Whitespace: \n",
      " perusahaan teknologi kreatif digital meluncurkan produk terbarunya yaitu aplikasi bernama aichatbot pada tanggal  mei  aplikasi ini dirancang untuk mempermudah komunikasi bisnis dengan fiturfitur canggih yang mampu memproses hingga  pertanyaan per menit para pengguna sangat antusias menyambutnya karena mereka yakin aplikasi ini dapat meningkatkan efisiensi kerja hingga  namun ada beberapa pengguna yang mengeluhkan bug kecil seperti kesalahan penulisan typo pada balasan otomatis yang kadang muncul meski begitu pihak pengembang berjanji akan segera merilis pembaruan untuk mengatasi semua masalah tersebut\n"
     ]
    }
   ],
   "execution_count": 5
  },
  {
   "metadata": {
    "ExecuteTime": {
     "end_time": "2025-09-18T05:38:08.072195Z",
     "start_time": "2025-09-18T05:38:08.040267Z"
    }
   },
   "cell_type": "code",
   "source": [
    "# STOPWORD REMOVAL\n",
    "# Menghapus kata-kata yang tidak penting (konjungsi dll)\n",
    "\n",
    "import nltk\n",
    "from nltk.corpus import stopwords\n",
    "from nltk.tokenize import word_tokenize\n",
    "\n",
    "# Ganti 'path_to_your_folder' dengan jalur folder tempat Anda ingin menyimpan data NLTK\n",
    "nltk.data.path.append('D:/python')\n",
    "\n",
    "nltk.download('stopwords', download_dir='D:/python')\n",
    "nltk.download('punkt', download_dir='D:/python')\n",
    "\n",
    "# Tokenisasi teks jadi kata-kata\n",
    "tokens_kata = word_tokenize(teks_clean3)\n",
    "\n",
    "# Ambil daftar stopwords bahasa indo dari NLTK\n",
    "stopwords_indonesia = set(stopwords.words('indonesian'))\n",
    "\n",
    "# Filter kata-kata dg menghapus stopwords\n",
    "important_word = [kata for kata in tokens_kata if kata.lower() not in stopwords_indonesia]\n",
    "\n",
    "# Gabungkan kembali kata penting\n",
    "teks_clean4 = ' '.join(important_word)\n",
    "\n",
    "print(\"Teks setelah filtering stopwords NLTK: \\n\", teks_clean4)"
   ],
   "id": "6c6b3121f844fc8a",
   "outputs": [
    {
     "name": "stdout",
     "output_type": "stream",
     "text": [
      "Teks setelah filtering stopwords NLTK: \n",
      " perusahaan teknologi kreatif digital meluncurkan produk terbarunya aplikasi bernama aichatbot tanggal mei aplikasi dirancang mempermudah komunikasi bisnis fiturfitur canggih memproses menit pengguna antusias menyambutnya aplikasi meningkatkan efisiensi kerja pengguna mengeluhkan bug kesalahan penulisan typo balasan otomatis kadang muncul pengembang berjanji merilis pembaruan mengatasi\n"
     ]
    },
    {
     "name": "stderr",
     "output_type": "stream",
     "text": [
      "[nltk_data] Downloading package stopwords to D:/python...\n",
      "[nltk_data]   Package stopwords is already up-to-date!\n",
      "[nltk_data] Downloading package punkt to D:/python...\n",
      "[nltk_data]   Package punkt is already up-to-date!\n"
     ]
    }
   ],
   "execution_count": 7
  },
  {
   "metadata": {},
   "cell_type": "markdown",
   "source": "## Tokenizing",
   "id": "1eaba8fea2c4a1ff"
  },
  {
   "metadata": {
    "ExecuteTime": {
     "end_time": "2025-09-18T05:42:26.866484Z",
     "start_time": "2025-09-18T05:42:26.862457Z"
    }
   },
   "cell_type": "code",
   "source": [
    "# Menggunakan aturan tokenisasi khusus\n",
    "\n",
    "import re\n",
    "\n",
    "tokens = re.findall(r\"\\w+|\\d+\", teks_clean4)\n",
    "print(\"Hasil tokenisasi: \\n\", tokens)"
   ],
   "id": "7ee96514313bb9e9",
   "outputs": [
    {
     "name": "stdout",
     "output_type": "stream",
     "text": [
      "Hasil tokenisasi: \n",
      " ['perusahaan', 'teknologi', 'kreatif', 'digital', 'meluncurkan', 'produk', 'terbarunya', 'aplikasi', 'bernama', 'aichatbot', 'tanggal', 'mei', 'aplikasi', 'dirancang', 'mempermudah', 'komunikasi', 'bisnis', 'fiturfitur', 'canggih', 'memproses', 'menit', 'pengguna', 'antusias', 'menyambutnya', 'aplikasi', 'meningkatkan', 'efisiensi', 'kerja', 'pengguna', 'mengeluhkan', 'bug', 'kesalahan', 'penulisan', 'typo', 'balasan', 'otomatis', 'kadang', 'muncul', 'pengembang', 'berjanji', 'merilis', 'pembaruan', 'mengatasi']\n"
     ]
    }
   ],
   "execution_count": 8
  },
  {
   "metadata": {},
   "cell_type": "markdown",
   "source": "## Stemming",
   "id": "f4560ff649c4db3d"
  },
  {
   "metadata": {
    "ExecuteTime": {
     "end_time": "2025-09-18T05:54:29.870729Z",
     "start_time": "2025-09-18T05:54:29.188829Z"
    }
   },
   "cell_type": "code",
   "source": [
    "# Gunakan pustaka Sastrawi\n",
    "\n",
    "from Sastrawi.Stemmer.StemmerFactory import StemmerFactory\n",
    "\n",
    "factory = StemmerFactory()\n",
    "stemmer = factory.create_stemmer()\n",
    "\n",
    "words_stemmed = [stemmer.stem(kata) for kata in tokens]\n",
    "\n",
    "print(\"Hasil stemming: \", words_stemmed)"
   ],
   "id": "aa3d035a2687e794",
   "outputs": [
    {
     "name": "stdout",
     "output_type": "stream",
     "text": [
      "Hasil stemming:  ['usaha', 'teknologi', 'kreatif', 'digital', 'luncur', 'produk', 'baru', 'aplikasi', 'nama', 'aichatbot', 'tanggal', 'mei', 'aplikasi', 'rancang', 'mudah', 'komunikasi', 'bisnis', 'fiturfitur', 'canggih', 'proses', 'menit', 'guna', 'antusias', 'sambut', 'aplikasi', 'tingkat', 'efisiensi', 'kerja', 'guna', 'keluh', 'bug', 'salah', 'tulis', 'typo', 'balas', 'otomatis', 'kadang', 'muncul', 'kembang', 'janji', 'rilis', 'baru', 'atas']\n"
     ]
    }
   ],
   "execution_count": 12
  },
  {
   "metadata": {},
   "cell_type": "markdown",
   "source": "## Lemmatization",
   "id": "db753f042ef69444"
  },
  {
   "metadata": {
    "ExecuteTime": {
     "end_time": "2025-09-18T06:04:23.382607Z",
     "start_time": "2025-09-18T06:04:23.348290Z"
    }
   },
   "cell_type": "code",
   "source": [
    "import nltk\n",
    "nltk.download('wordnet')\n",
    "from nltk.stem import WordNetLemmatizer\n",
    "from nltk.corpus import wordnet\n",
    "\n",
    "lemmatizer = WordNetLemmatizer()\n",
    "words = words_stemmed\n",
    "\n",
    "lemmatized_words = [lemmatizer.lemmatize(word, pos=wordnet.VERB) for word in words_stemmed]\n",
    "\n",
    "print(\"Hasil lemmatization: \\n\", lemmatized_words)"
   ],
   "id": "609892047fb87bfa",
   "outputs": [
    {
     "name": "stdout",
     "output_type": "stream",
     "text": [
      "Hasil lemmatization: \n",
      " ['usaha', 'teknologi', 'kreatif', 'digital', 'luncur', 'produk', 'baru', 'aplikasi', 'nama', 'aichatbot', 'tanggal', 'mei', 'aplikasi', 'rancang', 'mudah', 'komunikasi', 'bisnis', 'fiturfitur', 'canggih', 'proses', 'menit', 'guna', 'antusias', 'sambut', 'aplikasi', 'tingkat', 'efisiensi', 'kerja', 'guna', 'keluh', 'bug', 'salah', 'tulis', 'typo', 'balas', 'otomatis', 'kadang', 'muncul', 'kembang', 'janji', 'rilis', 'baru', 'atas']\n"
     ]
    },
    {
     "name": "stderr",
     "output_type": "stream",
     "text": [
      "[nltk_data] Downloading package wordnet to\n",
      "[nltk_data]     C:\\Users\\Asus\\AppData\\Roaming\\nltk_data...\n",
      "[nltk_data]   Package wordnet is already up-to-date!\n"
     ]
    }
   ],
   "execution_count": 15
  }
 ],
 "metadata": {
  "kernelspec": {
   "display_name": "Python 3",
   "language": "python",
   "name": "python3"
  },
  "language_info": {
   "codemirror_mode": {
    "name": "ipython",
    "version": 2
   },
   "file_extension": ".py",
   "mimetype": "text/x-python",
   "name": "python",
   "nbconvert_exporter": "python",
   "pygments_lexer": "ipython2",
   "version": "2.7.6"
  }
 },
 "nbformat": 4,
 "nbformat_minor": 5
}
